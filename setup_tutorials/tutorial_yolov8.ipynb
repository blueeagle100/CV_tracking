{
  "nbformat": 4,
  "nbformat_minor": 0,
  "metadata": {
    "colab": {
      "provenance": [],
      "authorship_tag": "ABX9TyP/MGW9uz6j4Ohbbcl+4+Nk",
      "include_colab_link": true
    },
    "kernelspec": {
      "name": "python3",
      "display_name": "Python 3"
    },
    "language_info": {
      "name": "python"
    },
    "accelerator": "GPU",
    "gpuClass": "standard"
  },
  "cells": [
    {
      "cell_type": "markdown",
      "metadata": {
        "id": "view-in-github",
        "colab_type": "text"
      },
      "source": [
        "<a href=\"https://colab.research.google.com/github/itberrios/CV_tracking/blob/main/setup_tutorials/tutorial_yolov8.ipynb\" target=\"_parent\"><img src=\"https://colab.research.google.com/assets/colab-badge.svg\" alt=\"Open In Colab\"/></a>"
      ]
    },
    {
      "cell_type": "markdown",
      "source": [
        "# YOLOv8 Tutorial\n",
        "In this notebook we will learn how to use YOLOv8 to perform various tasks on movie clips\n",
        "\n",
        "- Object Detection\n",
        "- Segmentation\n",
        "\n",
        "\n",
        "First we will select a YouTube video to perform the inferences"
      ],
      "metadata": {
        "id": "evlE_0r3knph"
      }
    },
    {
      "cell_type": "markdown",
      "source": [
        "### Install Dependencies"
      ],
      "metadata": {
        "id": "rc3FqHz0mXVK"
      }
    },
    {
      "cell_type": "code",
      "source": [
        "# !pip install ultralytics\n",
        "!pip install pytube\n",
        "!pip install moviepy\n",
        "\n",
        "# bug fix for imageio-ffmpeg\n",
        "!pip install imageio==2.4.1"
      ],
      "metadata": {
        "id": "Wrem71qcklOt"
      },
      "execution_count": null,
      "outputs": []
    },
    {
      "cell_type": "code",
      "source": [
        "!git clone https://github.com/ultralytics/ultralytics\n",
        "%cd ultralytics\n",
        "!pip install -r requirements.txt"
      ],
      "metadata": {
        "id": "GkNB7OUxqL--"
      },
      "execution_count": null,
      "outputs": []
    },
    {
      "cell_type": "code",
      "source": [
        "!pip install ultralytics"
      ],
      "metadata": {
        "id": "UQYvVdXQqM7Q"
      },
      "execution_count": null,
      "outputs": []
    },
    {
      "cell_type": "code",
      "source": [
        "%cd ..\n",
        "!ls"
      ],
      "metadata": {
        "id": "r8dd61AhqY0O"
      },
      "execution_count": null,
      "outputs": []
    },
    {
      "cell_type": "markdown",
      "source": [
        "#### Download Video"
      ],
      "metadata": {
        "id": "RmesbKqil7E6"
      }
    },
    {
      "cell_type": "code",
      "source": [
        "from pytube import YouTube\n",
        "\n",
        "\n",
        "video_url = r'https://www.youtube.com/watch?v=s3mK428pL7U'\n",
        "yt = YouTube(video_url)\n",
        "print(\"Video Title: \", yt.title)\n",
        "\n",
        "# download video\n",
        "video_path = yt.streams \\\n",
        "  .filter(progressive=True, file_extension='mp4') \\\n",
        "  .order_by('resolution') \\\n",
        "  .desc() \\\n",
        "  .first() \\\n",
        "  .download() \n",
        "     "
      ],
      "metadata": {
        "colab": {
          "base_uri": "https://localhost:8080/"
        },
        "id": "oy8vMCUHlvmV",
        "outputId": "8316ff19-a793-444c-ad51-34e3110f1e24"
      },
      "execution_count": 1,
      "outputs": [
        {
          "output_type": "stream",
          "name": "stdout",
          "text": [
            "Video Title:  Shibuya crossing\n"
          ]
        }
      ]
    },
    {
      "cell_type": "code",
      "source": [
        "os.path.exists(video_path)"
      ],
      "metadata": {
        "id": "gU97rs07wRhB",
        "outputId": "7d5b3d89-2778-4cb1-c070-4dcb943b37bc",
        "colab": {
          "base_uri": "https://localhost:8080/"
        }
      },
      "execution_count": 6,
      "outputs": [
        {
          "output_type": "execute_result",
          "data": {
            "text/plain": [
              "True"
            ]
          },
          "metadata": {},
          "execution_count": 6
        }
      ]
    },
    {
      "cell_type": "code",
      "source": [
        "import os\n",
        "import numpy as np\n",
        "import cv2\n",
        "import matplotlib.pyplot as plt\n",
        "\n",
        "%matplotlib inline\n",
        "plt.rcParams[\"figure.figsize\"] = (20, 10)"
      ],
      "metadata": {
        "id": "gmSZDHxnmFEq"
      },
      "execution_count": 2,
      "outputs": []
    },
    {
      "cell_type": "code",
      "source": [
        "from moviepy.editor import VideoFileClip\n",
        "\n",
        "videoclip = VideoFileClip(video_path)\n",
        "audioclip = videoclip.audio\n",
        "video_fps = videoclip.fps"
      ],
      "metadata": {
        "id": "iRUEBtkHmaUH"
      },
      "execution_count": 3,
      "outputs": []
    },
    {
      "cell_type": "markdown",
      "source": [
        "### Get YOLOv8 from Ultralytics"
      ],
      "metadata": {
        "id": "Y_FhTQjgnCT-"
      }
    },
    {
      "cell_type": "markdown",
      "source": [
        "### Get detections on video with [YOLO Command Line Interface (CLI)](https://docs.ultralytics.com/cli/)"
      ],
      "metadata": {
        "id": "0sQ6Io2LpWYD"
      }
    },
    {
      "cell_type": "code",
      "source": [
        "!yolo task=detect mode=predict model=yolov8n.pt conf=0.45 source=video_path"
      ],
      "metadata": {
        "id": "uFgx3tdQnYPz",
        "outputId": "1e24940f-e4e4-4939-d38c-07af6e190a46",
        "colab": {
          "base_uri": "https://localhost:8080/"
        }
      },
      "execution_count": 7,
      "outputs": [
        {
          "output_type": "stream",
          "name": "stdout",
          "text": [
            "Ultralytics YOLOv8.0.28 🚀 Python-3.8.10 torch-1.13.1+cu116 CUDA:0 (Tesla T4, 15110MiB)\n",
            "YOLOv8n summary (fused): 168 layers, 3151904 parameters, 0 gradients, 8.7 GFLOPs\n",
            "\n",
            "Traceback (most recent call last):\n",
            "  File \"/usr/local/bin/yolo\", line 8, in <module>\n",
            "    sys.exit(entrypoint())\n",
            "  File \"/usr/local/lib/python3.8/dist-packages/ultralytics/yolo/cfg/__init__.py\", line 266, in entrypoint\n",
            "    getattr(model, mode)(**vars(cfg))\n",
            "  File \"/usr/local/lib/python3.8/dist-packages/torch/autograd/grad_mode.py\", line 27, in decorate_context\n",
            "    return func(*args, **kwargs)\n",
            "  File \"/usr/local/lib/python3.8/dist-packages/ultralytics/yolo/engine/model.py\", line 148, in predict\n",
            "    return self.predictor.predict_cli(source=source) if is_cli else self.predictor(source=source, stream=stream)\n",
            "  File \"/usr/local/lib/python3.8/dist-packages/ultralytics/yolo/engine/predictor.py\", line 119, in predict_cli\n",
            "    for _ in gen:  # running CLI inference without accumulating any outputs (do not modify)\n",
            "  File \"/usr/local/lib/python3.8/dist-packages/ultralytics/yolo/engine/predictor.py\", line 142, in stream_inference\n",
            "    self.setup_source(source if source is not None else self.args.source)\n",
            "  File \"/usr/local/lib/python3.8/dist-packages/ultralytics/yolo/engine/predictor.py\", line 124, in setup_source\n",
            "    self.dataset = load_inference_source(source=source,\n",
            "  File \"/usr/local/lib/python3.8/dist-packages/ultralytics/yolo/data/build.py\", line 183, in load_inference_source\n",
            "    dataset = LoadImages(source,\n",
            "  File \"/usr/local/lib/python3.8/dist-packages/ultralytics/yolo/data/dataloaders/stream_loaders.py\", line 187, in __init__\n",
            "    raise FileNotFoundError(f'{p} does not exist')\n",
            "FileNotFoundError: /content/video_path does not exist\n"
          ]
        }
      ]
    },
    {
      "cell_type": "code",
      "source": [
        "path_video = r'/content/Tokyo Shibuya crossing during rush hour.mp4'"
      ],
      "metadata": {
        "id": "GUrw3Ewiu3cN"
      },
      "execution_count": 21,
      "outputs": []
    },
    {
      "cell_type": "code",
      "source": [
        "# Show video\n",
        "mp4 = open(path_video,'rb').read()\n",
        "data_url = \"data:video/mp4;base64,\" + b64encode(mp4).decode()\n",
        "HTML(\"\"\"\n",
        "<video width=400 controls>\n",
        "      <source src=\"%s\" type=\"video/mp4\">\n",
        "</video>\n",
        "\"\"\" % data_url)"
      ],
      "metadata": {
        "id": "SAXk77ePu2oH"
      },
      "execution_count": 22,
      "outputs": []
    },
    {
      "cell_type": "code",
      "source": [
        "!ls"
      ],
      "metadata": {
        "id": "uzZEc9G7rW-f",
        "outputId": "ee2cc029-494d-4417-edda-4ea0e15dc46d",
        "colab": {
          "base_uri": "https://localhost:8080/"
        }
      },
      "execution_count": 8,
      "outputs": [
        {
          "output_type": "stream",
          "name": "stdout",
          "text": [
            " runs\t      'Tokyo Shibuya crossing during rush hour.mp4'   yolov8n.pt\n",
            " sample_data   ultralytics\n"
          ]
        }
      ]
    },
    {
      "cell_type": "code",
      "source": [
        "os.path.exists(r'runs/detect/predict/Tokyo Shibuya crossing during rush hour.mp4')"
      ],
      "metadata": {
        "id": "PQTZbqnrrULS",
        "outputId": "ab1077a8-fc35-4bd6-aadb-853a6bfaf6b6",
        "colab": {
          "base_uri": "https://localhost:8080/"
        }
      },
      "execution_count": 10,
      "outputs": [
        {
          "output_type": "execute_result",
          "data": {
            "text/plain": [
              "True"
            ]
          },
          "metadata": {},
          "execution_count": 10
        }
      ]
    },
    {
      "cell_type": "code",
      "source": [
        "# compress video\n",
        "save_path = r'runs/detect/predict/Tokyo Shibuya crossing during rush hour.mp4'\n",
        "compressed_path = r'/content/compressed.mp4'\n",
        "\n",
        "# os.system(f\"ffmpeg -i {save_path} -vcodec libx264 {compressed_path}\")\n",
        "os.system(f\"!ffmpeg -i {save_path} -vcodec libx264 {compressed_path}\")"
      ],
      "metadata": {
        "id": "HaRfpCqlswZn",
        "outputId": "6b1baf61-3fee-4219-82f2-4654bb7878b8",
        "colab": {
          "base_uri": "https://localhost:8080/"
        }
      },
      "execution_count": 24,
      "outputs": [
        {
          "output_type": "execute_result",
          "data": {
            "text/plain": [
              "32512"
            ]
          },
          "metadata": {},
          "execution_count": 24
        }
      ]
    },
    {
      "cell_type": "code",
      "source": [
        "!ls"
      ],
      "metadata": {
        "id": "hazYW4bouSSX",
        "outputId": "1c6695aa-0f42-4f97-97e3-de1fc3e7e65e",
        "colab": {
          "base_uri": "https://localhost:8080/"
        }
      },
      "execution_count": 25,
      "outputs": [
        {
          "output_type": "stream",
          "name": "stdout",
          "text": [
            " runs\t      'Tokyo Shibuya crossing during rush hour.mp4'   yolov8n.pt\n",
            " sample_data   ultralytics\n"
          ]
        }
      ]
    },
    {
      "cell_type": "code",
      "source": [
        "mp4 = open(compressed_path,'rb').read()"
      ],
      "metadata": {
        "id": "-Ur-IEVluMPR",
        "outputId": "e36a8efa-1600-4ab0-c403-bedbc8633681",
        "colab": {
          "base_uri": "https://localhost:8080/",
          "height": 166
        }
      },
      "execution_count": 20,
      "outputs": [
        {
          "output_type": "error",
          "ename": "FileNotFoundError",
          "evalue": "ignored",
          "traceback": [
            "\u001b[0;31m---------------------------------------------------------------------------\u001b[0m",
            "\u001b[0;31mFileNotFoundError\u001b[0m                         Traceback (most recent call last)",
            "\u001b[0;32m<ipython-input-20-b0f34680c366>\u001b[0m in \u001b[0;36m<module>\u001b[0;34m\u001b[0m\n\u001b[0;32m----> 1\u001b[0;31m \u001b[0mmp4\u001b[0m \u001b[0;34m=\u001b[0m \u001b[0mopen\u001b[0m\u001b[0;34m(\u001b[0m\u001b[0mcompressed_path\u001b[0m\u001b[0;34m,\u001b[0m\u001b[0;34m'rb'\u001b[0m\u001b[0;34m)\u001b[0m\u001b[0;34m.\u001b[0m\u001b[0mread\u001b[0m\u001b[0;34m(\u001b[0m\u001b[0;34m)\u001b[0m\u001b[0;34m\u001b[0m\u001b[0;34m\u001b[0m\u001b[0m\n\u001b[0m",
            "\u001b[0;31mFileNotFoundError\u001b[0m: [Errno 2] No such file or directory: 'runs/detect/predict/Tokyo Shibuya crossing during rush hour_compressed.mp4'"
          ]
        }
      ]
    },
    {
      "cell_type": "markdown",
      "source": [
        "https://stackoverflow.com/questions/57377185/how-play-mp4-video-in-google-colab"
      ],
      "metadata": {
        "id": "uxHjQi-4tsnR"
      }
    },
    {
      "cell_type": "code",
      "source": [
        "# show video\n",
        "mp4 = open(save_path, 'rb').read()\n",
        "data_url = \"data:video/mp4:base64,\" + b64encode(mp4).decode()\n",
        "HTML(\"\"\" \n",
        "<video width=400 controls>\n",
        "    <source src=\"%s\" type=\"videp/mp4\">\n",
        "</video>\n",
        "\"\"\" % data_url)"
      ],
      "metadata": {
        "id": "x93vn1TRtQew"
      },
      "execution_count": 13,
      "outputs": []
    },
    {
      "cell_type": "code",
      "source": [
        "mp4 = open(compressed_path,'rb').read()\n",
        "data_url = \"data:video/mp4;base64,\" + b64encode(mp4).decode()\n",
        "HTML(\"\"\"\n",
        "<video width=400 controls>\n",
        "      <source src=\"%s\" type=\"video/mp4\">\n",
        "</video>\n",
        "\"\"\" % data_url)"
      ],
      "metadata": {
        "id": "0e0d_5M6ttxR"
      },
      "execution_count": null,
      "outputs": []
    },
    {
      "cell_type": "code",
      "source": [
        "!ls"
      ],
      "metadata": {
        "id": "43uaVbmttbwL",
        "outputId": "63053046-2223-46a0-c951-c947d5376139",
        "colab": {
          "base_uri": "https://localhost:8080/"
        }
      },
      "execution_count": 15,
      "outputs": [
        {
          "output_type": "stream",
          "name": "stdout",
          "text": [
            " runs\t      'Tokyo Shibuya crossing during rush hour.mp4'   yolov8n.pt\n",
            " sample_data   ultralytics\n"
          ]
        }
      ]
    },
    {
      "cell_type": "code",
      "source": [
        "from IPython.display import HTML\n",
        "from base64 import b64encode\n",
        "\n",
        "# compress video\n",
        "save_path = r'runs/detect/predict/Tokyo Shibuya crossing during rush hour.mp4'\n",
        "compressed_path = r'runs/detect/predict/Tokyo Shibuya crossing during rush hour_compressed.mp4'\n",
        "\n",
        "os.system(f\"ffmpeg -i {save_path} -vcodec libx264 {compressed_path}\")\n",
        "\n",
        "\n",
        "# show video\n",
        "mp4 = open(compressed_path, 'rb').read()\n",
        "data_url = \"data:video/mp4:base64,\" + b64encode(mp4).decode()\n",
        "HTML(\"\"\" \n",
        "<video width=400 controls>\n",
        "    <source src=\"%s\" type=\"videp/mp4\">\n",
        "</video>\n",
        "\"\"\" % data_url)"
      ],
      "metadata": {
        "id": "uyYT1zJIpTba",
        "outputId": "ca788751-26db-46cf-9889-4db490e14352",
        "colab": {
          "base_uri": "https://localhost:8080/",
          "height": 235
        }
      },
      "execution_count": 11,
      "outputs": [
        {
          "output_type": "error",
          "ename": "FileNotFoundError",
          "evalue": "ignored",
          "traceback": [
            "\u001b[0;31m---------------------------------------------------------------------------\u001b[0m",
            "\u001b[0;31mFileNotFoundError\u001b[0m                         Traceback (most recent call last)",
            "\u001b[0;32m<ipython-input-11-138044f3dd93>\u001b[0m in \u001b[0;36m<module>\u001b[0;34m\u001b[0m\n\u001b[1;32m     10\u001b[0m \u001b[0;34m\u001b[0m\u001b[0m\n\u001b[1;32m     11\u001b[0m \u001b[0;31m# show video\u001b[0m\u001b[0;34m\u001b[0m\u001b[0;34m\u001b[0m\u001b[0;34m\u001b[0m\u001b[0m\n\u001b[0;32m---> 12\u001b[0;31m \u001b[0mmp4\u001b[0m \u001b[0;34m=\u001b[0m \u001b[0mopen\u001b[0m\u001b[0;34m(\u001b[0m\u001b[0mcompressed_path\u001b[0m\u001b[0;34m,\u001b[0m \u001b[0;34m'rb'\u001b[0m\u001b[0;34m)\u001b[0m\u001b[0;34m.\u001b[0m\u001b[0mread\u001b[0m\u001b[0;34m(\u001b[0m\u001b[0;34m)\u001b[0m\u001b[0;34m\u001b[0m\u001b[0;34m\u001b[0m\u001b[0m\n\u001b[0m\u001b[1;32m     13\u001b[0m \u001b[0mdata_url\u001b[0m \u001b[0;34m=\u001b[0m \u001b[0;34m\"data:video/mp4:base64,\"\u001b[0m \u001b[0;34m+\u001b[0m \u001b[0mb64encode\u001b[0m\u001b[0;34m(\u001b[0m\u001b[0mmp4\u001b[0m\u001b[0;34m)\u001b[0m\u001b[0;34m.\u001b[0m\u001b[0mdecode\u001b[0m\u001b[0;34m(\u001b[0m\u001b[0;34m)\u001b[0m\u001b[0;34m\u001b[0m\u001b[0;34m\u001b[0m\u001b[0m\n\u001b[1;32m     14\u001b[0m HTML(\"\"\" \n",
            "\u001b[0;31mFileNotFoundError\u001b[0m: [Errno 2] No such file or directory: 'runs/detect/predict/Tokyo Shibuya crossing during rush hour_compressed.mp4'"
          ]
        }
      ]
    },
    {
      "cell_type": "code",
      "source": [],
      "metadata": {
        "id": "ZUIKZm8JscVx"
      },
      "execution_count": null,
      "outputs": []
    }
  ]
}