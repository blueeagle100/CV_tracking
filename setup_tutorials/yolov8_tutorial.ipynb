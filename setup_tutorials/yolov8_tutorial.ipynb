{
  "nbformat": 4,
  "nbformat_minor": 0,
  "metadata": {
    "colab": {
      "provenance": [],
      "authorship_tag": "ABX9TyMcXdk65NfoLAtlxZTQDpL3",
      "include_colab_link": true
    },
    "kernelspec": {
      "name": "python3",
      "display_name": "Python 3"
    },
    "language_info": {
      "name": "python"
    }
  },
  "cells": [
    {
      "cell_type": "markdown",
      "metadata": {
        "id": "view-in-github",
        "colab_type": "text"
      },
      "source": [
        "<a href=\"https://colab.research.google.com/github/itberrios/CV_tracking/blob/main/setup_tutorials/yolov8_tutorial.ipynb\" target=\"_parent\"><img src=\"https://colab.research.google.com/assets/colab-badge.svg\" alt=\"Open In Colab\"/></a>"
      ]
    },
    {
      "cell_type": "markdown",
      "source": [
        "# YOLOv8 Tutorial\n",
        "In this notebook we will learn how to use YOLOv8 to perform various tasks on movie clips\n",
        "\n",
        "- Object Detection\n",
        "- Segmentation\n",
        "\n",
        "\n",
        "First we will select a YouTube video to perform the inferences"
      ],
      "metadata": {
        "id": "evlE_0r3knph"
      }
    },
    {
      "cell_type": "markdown",
      "source": [
        "#### Install libraries"
      ],
      "metadata": {
        "id": "rc3FqHz0mXVK"
      }
    },
    {
      "cell_type": "code",
      "source": [
        "# !pip install ultralytics\n",
        "!pip install pytube\n",
        "!pip install moviepy\n",
        "\n",
        "# bug fix for imageio-ffmpeg\n",
        "!pip install imageio==2.4.1"
      ],
      "metadata": {
        "id": "Wrem71qcklOt"
      },
      "execution_count": null,
      "outputs": []
    },
    {
      "cell_type": "markdown",
      "source": [
        "#### Download Video"
      ],
      "metadata": {
        "id": "RmesbKqil7E6"
      }
    },
    {
      "cell_type": "code",
      "source": [
        "from pytube import YouTube\n",
        "\n",
        "\n",
        "video_url = r'https://www.youtube.com/watch?v=Bi61ue_cpMY'\n",
        "yt = YouTube(video_url)\n",
        "print(\"Video Title: \", yt.title)\n",
        "\n",
        "# download video\n",
        "yt.streams \\\n",
        "  .filter(progressive=True, file_extension='mp4') \\\n",
        "  .order_by('resolution') \\\n",
        "  .desc() \\\n",
        "  .first() \\\n",
        "  .download() \n",
        "     "
      ],
      "metadata": {
        "colab": {
          "base_uri": "https://localhost:8080/",
          "height": 52
        },
        "id": "oy8vMCUHlvmV",
        "outputId": "0081a378-ec84-4eb3-b86a-f16ae6f08876"
      },
      "execution_count": 4,
      "outputs": [
        {
          "output_type": "stream",
          "name": "stdout",
          "text": [
            "Video Title:  Tokyo Shibuya crossing during rush hour\n"
          ]
        },
        {
          "output_type": "execute_result",
          "data": {
            "text/plain": [
              "'/content/Tokyo Shibuya crossing during rush hour.mp4'"
            ],
            "application/vnd.google.colaboratory.intrinsic+json": {
              "type": "string"
            }
          },
          "metadata": {},
          "execution_count": 4
        }
      ]
    },
    {
      "cell_type": "code",
      "source": [
        "import os\n",
        "import numpy as np\n",
        "import cv2\n",
        "import matplotlib.pyplot as plt\n",
        "\n",
        "%matplotlib inline\n",
        "plt.rcParams[\"figure.figsize\"] = (20, 10)"
      ],
      "metadata": {
        "id": "gmSZDHxnmFEq"
      },
      "execution_count": 5,
      "outputs": []
    },
    {
      "cell_type": "code",
      "source": [
        "!ls"
      ],
      "metadata": {
        "colab": {
          "base_uri": "https://localhost:8080/"
        },
        "id": "2xvuQKAPmc17",
        "outputId": "4b4726e7-09d0-4bd0-a145-418758014910"
      },
      "execution_count": 6,
      "outputs": [
        {
          "output_type": "stream",
          "name": "stdout",
          "text": [
            " sample_data  'Tokyo Shibuya crossing during rush hour.mp4'\n"
          ]
        }
      ]
    },
    {
      "cell_type": "code",
      "source": [
        "\n",
        "\n",
        "from moviepy.editor import VideoFileClip\n",
        "\n",
        "video_path = '/content/Tokyo Shibuya crossing during rush hour.mp4'\n",
        "videoclip = VideoFileClip(video_path)\n",
        "audioclip = videoclip.audio\n",
        "video_fps = videoclip.fps"
      ],
      "metadata": {
        "id": "iRUEBtkHmaUH"
      },
      "execution_count": 1,
      "outputs": []
    },
    {
      "cell_type": "code",
      "source": [],
      "metadata": {
        "id": "q8TtP5MhnBzD"
      },
      "execution_count": null,
      "outputs": []
    },
    {
      "cell_type": "markdown",
      "source": [
        "### Get YOLOv8 from Ultralytics"
      ],
      "metadata": {
        "id": "Y_FhTQjgnCT-"
      }
    },
    {
      "cell_type": "code",
      "source": [
        "!git clone https://github.com/ultralytics/ultralytics\n",
        "!cd ultralytics\n",
        "!pip install -r requirements.txt"
      ],
      "metadata": {
        "colab": {
          "base_uri": "https://localhost:8080/"
        },
        "id": "5gLGpjmnmkFw",
        "outputId": "7e54aa6b-422f-440d-f8f6-e2003815b27f"
      },
      "execution_count": 13,
      "outputs": [
        {
          "output_type": "stream",
          "name": "stdout",
          "text": [
            "fatal: destination path 'ultralytics' already exists and is not an empty directory.\n",
            "Looking in indexes: https://pypi.org/simple, https://us-python.pkg.dev/colab-wheels/public/simple/\n",
            "Obtaining file:///content\n",
            "\u001b[31mERROR: file:///content does not appear to be a Python project: neither 'setup.py' nor 'pyproject.toml' found.\u001b[0m\u001b[31m\n",
            "\u001b[0m"
          ]
        }
      ]
    },
    {
      "cell_type": "code",
      "source": [
        "!cd ultralytics"
      ],
      "metadata": {
        "id": "B3b8a3AAm-tE"
      },
      "execution_count": 14,
      "outputs": []
    },
    {
      "cell_type": "code",
      "source": [
        "!ls"
      ],
      "metadata": {
        "colab": {
          "base_uri": "https://localhost:8080/"
        },
        "id": "KMbHO1aNnIvl",
        "outputId": "79447ada-c254-4a4a-8515-e554ff4a3f7b"
      },
      "execution_count": 15,
      "outputs": [
        {
          "output_type": "stream",
          "name": "stdout",
          "text": [
            " sample_data  'Tokyo Shibuya crossing during rush hour.mp4'   ultralytics\n"
          ]
        }
      ]
    },
    {
      "cell_type": "code",
      "source": [],
      "metadata": {
        "colab": {
          "base_uri": "https://localhost:8080/"
        },
        "id": "VOUgLmygnP9H",
        "outputId": "b305791e-73c1-4b93-daa1-a2ee27f0baf0"
      },
      "execution_count": 16,
      "outputs": [
        {
          "output_type": "stream",
          "name": "stdout",
          "text": [
            "\u001b[31mERROR: Could not open requirements file: [Errno 2] No such file or directory: 'requirements.txt'\u001b[0m\u001b[31m\n",
            "\u001b[0m"
          ]
        }
      ]
    },
    {
      "cell_type": "code",
      "source": [],
      "metadata": {
        "id": "uFgx3tdQnYPz"
      },
      "execution_count": null,
      "outputs": []
    }
  ]
}