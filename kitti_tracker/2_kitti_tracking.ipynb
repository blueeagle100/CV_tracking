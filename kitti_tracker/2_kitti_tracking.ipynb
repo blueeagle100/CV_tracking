{
 "cells": [
  {
   "cell_type": "markdown",
   "metadata": {},
   "source": [
    "# **Yolo V5 Tutorial**\n",
    "\n",
    "In this tutorial we will learn how to import and run the YOLO object detector with just a few lines of code. Let's get started!\n",
    "\n",
    "<br>\n",
    "<br>\n",
    "\n",
    "First we will grab some data to run our object detector on. For this we will use 'wget' to obtain a video"
   ]
  },
  {
   "cell_type": "markdown",
   "metadata": {},
   "source": []
  }
 ],
 "metadata": {
  "kernelspec": {
   "display_name": "Python 3.7.8 64-bit",
   "language": "python",
   "name": "python3"
  },
  "language_info": {
   "name": "python",
   "version": "3.7.8"
  },
  "orig_nbformat": 4,
  "vscode": {
   "interpreter": {
    "hash": "0a54084e6b208ee8d1ce3989ffc20924477a5f55f5a43e22e699a6741623861e"
   }
  }
 },
 "nbformat": 4,
 "nbformat_minor": 2
}
