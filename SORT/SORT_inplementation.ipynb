{
  "nbformat": 4,
  "nbformat_minor": 0,
  "metadata": {
    "colab": {
      "provenance": [],
      "authorship_tag": "ABX9TyPjDojA8MPnhuCTdb8IwvGW",
      "include_colab_link": true
    },
    "kernelspec": {
      "name": "python3",
      "display_name": "Python 3"
    },
    "language_info": {
      "name": "python"
    }
  },
  "cells": [
    {
      "cell_type": "markdown",
      "metadata": {
        "id": "view-in-github",
        "colab_type": "text"
      },
      "source": [
        "<a href=\"https://colab.research.google.com/github/itberrios/CV_tracking/blob/main/SORT/SORT_inplementation.ipynb\" target=\"_parent\"><img src=\"https://colab.research.google.com/assets/colab-badge.svg\" alt=\"Open In Colab\"/></a>"
      ]
    },
    {
      "cell_type": "markdown",
      "source": [
        "# **SORT**\n",
        "\n",
        "Simple Online and Real Time Tracking.\n",
        "\n",
        "This notebook provides an implementation of the [SORT](https://arxiv.org/pdf/1602.00763.pdf) Algorithm. The SORT Algorithm is an online detection based tracking algorithm that follows 3 main steps:\n",
        " - Detect\n",
        " - Associate\n",
        " - Filter   "
      ],
      "metadata": {
        "id": "B7Tr9SS2K04e"
      }
    },
    {
      "cell_type": "code",
      "execution_count": null,
      "metadata": {
        "id": "i2z_RMVhKn9k"
      },
      "outputs": [],
      "source": []
    }
  ]
}